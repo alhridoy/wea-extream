{
 "cells": [
  {
   "cell_type": "markdown",
   "metadata": {},
   "source": [
    "# WX-Extreme Basic Usage Examples\n",
    "\n",
    "This notebook demonstrates how to use the WX-Extreme package for analyzing extreme weather events and evaluating weather predictions."
   ]
  },
  {
   "cell_type": "code",
   "execution_count": null,
   "metadata": {},
   "source": [
    "import numpy as np\n",
    "import xarray as xr\n",
    "import matplotlib.pyplot as plt\n",
    "from wx_extreme.utils import spatial_utils, met_utils, stat_utils, plot_utils"
   ]
  },
  {
   "cell_type": "markdown",
   "metadata": {},
   "source": [
    "## 1. Load Sample Data\n",
    "\n",
    "First, let's create some sample weather data using xarray."
   ]
  },
  {
   "cell_type": "code",
   "execution_count": null,
   "metadata": {},
   "source": [
    "# Create sample coordinates\n",
    "lat = np.linspace(30, 50, 50)\n",
    "lon = np.linspace(-10, 20, 60)\n",
    "time = pd.date_range('2023-01-01', '2023-12-31', freq='D')\n",
    "\n",
    "# Create sample temperature data\n",
    "temp = 15 + 10 * np.cos(np.pi * (time.dayofyear - 182) / 182)[:, np.newaxis, np.newaxis] + \\\n",
    "       5 * np.cos(np.pi * (lat - 40) / 20)[np.newaxis, :, np.newaxis] + \\\n",
    "       2 * np.random.randn(len(time), len(lat), len(lon))\n",
    "\n",
    "# Create xarray dataset\n",
    "ds = xr.Dataset(\n",
    "    data_vars=dict(\n",
    "        temperature=(['time', 'latitude', 'longitude'], temp),\n",
    "    ),\n",
    "    coords=dict(\n",
    "        time=time,\n",
    "        latitude=lat,\n",
    "        longitude=lon\n",
    "    )\n",
    ")\n",
    "\n",
    "ds"
   ]
  },
  {
   "cell_type": "markdown",
   "metadata": {},
   "source": [
    "## 2. Spatial Analysis\n",
    "\n",
    "Let's calculate grid spacing and areas."
   ]
  },
  {
   "cell_type": "code",
   "execution_count": null,
   "metadata": {},
   "source": [
    "# Calculate grid spacing\n",
    "dx, dy = spatial_utils.get_grid_spacing(ds.latitude, ds.longitude)\n",
    "print(f\"Grid spacing: dx = {dx:.2f} km, dy = {dy:.2f} km\")\n",
    "\n",
    "# Calculate grid cell areas\n",
    "areas = spatial_utils.calculate_area(ds.latitude, ds.longitude)\n",
    "print(f\"\\nGrid cell areas range: {areas.min().item():.2f} to {areas.max().item():.2f} km²\")"
   ]
  },
  {
   "cell_type": "markdown",
   "metadata": {},
   "source": [
    "## 3. Statistical Analysis\n",
    "\n",
    "Let's analyze temperature extremes."
   ]
  },
  {
   "cell_type": "code",
   "execution_count": null,
   "metadata": {},
   "source": [
    "# Calculate 95th percentile of temperature\n",
    "temp_95 = stat_utils.calculate_percentile(ds.temperature, q=95, dim='time')\n",
    "\n",
    "# Calculate exceedance probability\n",
    "exceed_prob = stat_utils.exceedance_probability(ds.temperature, threshold=25, dim='time')\n",
    "\n",
    "# Fit extreme value distribution at a specific location\n",
    "temp_series = ds.temperature.sel(latitude=40, longitude=0, method='nearest')\n",
    "params, info = stat_utils.extreme_value_fit(temp_series, distribution='gev')\n",
    "\n",
    "print(\"GEV Distribution Parameters:\")\n",
    "print(f\"Shape: {params[0]:.3f}\")\n",
    "print(f\"Location: {params[1]:.3f}\")\n",
    "print(f\"Scale: {params[2]:.3f}\")"
   ]
  },
  {
   "cell_type": "markdown",
   "metadata": {},
   "source": [
    "## 4. Visualization\n",
    "\n",
    "Let's create some plots to visualize our results."
   ]
  },
  {
   "cell_type": "code",
   "execution_count": null,
   "metadata": {},
   "source": [
    "# Create a figure with two subplots\n",
    "fig = plt.figure(figsize=(15, 6))\n",
    "\n",
    "# Plot mean temperature\n",
    "ax1 = plt.subplot(121, projection=ccrs.PlateCarree())\n",
    "plot_utils.plot_field(\n",
    "    ds.temperature.mean('time'),\n",
    "    ax=ax1,\n",
    "    colorbar_label='Temperature (°C)',\n",
    "    title='Mean Temperature'\n",
    ")\n",
    "\n",
    "# Plot 95th percentile\n",
    "ax2 = plt.subplot(122, projection=ccrs.PlateCarree())\n",
    "plot_utils.plot_field(\n",
    "    temp_95,\n",
    "    ax=ax2,\n",
    "    colorbar_label='Temperature (°C)',\n",
    "    title='95th Percentile Temperature'\n",
    ")\n",
    "\n",
    "plt.tight_layout()\n",
    "plt.show()"
   ]
  },
  {
   "cell_type": "markdown",
   "metadata": {},
   "source": [
    "## 5. Return Period Analysis\n",
    "\n",
    "Let's analyze return periods for extreme temperatures."
   ]
  },
  {
   "cell_type": "code",
   "execution_count": null,
   "metadata": {},
   "source": [
    "# Get temperature values for return period analysis\n",
    "temp_values = np.linspace(temp_series.min(), temp_series.max(), 100)\n",
    "\n",
    "# Create return period plot\n",
    "plt.figure(figsize=(10, 6))\n",
    "plot_utils.plot_return_period(\n",
    "    temp_series,\n",
    "    temp_values,\n",
    "    ylabel='Temperature (°C)',\n",
    "    title='Temperature Return Periods'\n",
    ")\n",
    "plt.grid(True)\n",
    "plt.show()"
   ]
  },
  {
   "cell_type": "markdown",
   "metadata": {},
   "source": [
    "## 6. Physical Consistency\n",
    "\n",
    "Let's demonstrate some meteorological calculations."
   ]
  },
  {
   "cell_type": "code",
   "execution_count": null,
   "metadata": {},
   "source": [
    "# Create sample pressure data (simplified for demonstration)\n",
    "pressure = 1013.25 - 0.1 * ds.latitude\n",
    "\n",
    "# Calculate potential temperature\n",
    "theta = met_utils.potential_temperature(\n",
    "    ds.temperature.isel(time=0),\n",
    "    pressure\n",
    ")\n",
    "\n",
    "# Plot potential temperature\n",
    "plt.figure(figsize=(10, 6))\n",
    "plot_utils.plot_field(\n",
    "    theta,\n",
    "    colorbar_label='Potential Temperature (K)',\n",
    "    title='Potential Temperature'\n",
    ")\n",
    "plt.show()"
   ]
  }
 ],
 "metadata": {
  "kernelspec": {
   "display_name": "Python 3",
   "language": "python",
   "name": "python3"
  },
  "language_info": {
   "codemirror_mode": {
    "name": "ipython",
    "version": 3
   },
   "file_extension": ".py",
   "mimetype": "text/x-python",
   "name": "python",
   "nbconvert_exporter": "python",
   "pygments_lexer": "ipython3",
   "version": "3.8.0"
  }
 },
 "nbformat": 4,
 "nbformat_minor": 4
}
