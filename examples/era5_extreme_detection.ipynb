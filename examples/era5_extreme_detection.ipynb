{
 "cells": [
  {
   "cell_type": "markdown",
   "metadata": {},
   "source": [
    "# Extreme Weather Event Detection with ERA5 Data\n",
    "\n",
    "This notebook demonstrates how to use the wx-extreme package to detect extreme weather events in ERA5 reanalysis data. We'll focus on detecting temperature extremes during the 2021 Pacific Northwest heat wave."
   ]
  },
  {
   "cell_type": "code",
   "execution_count": null,
   "metadata": {},
   "source": [
    "import numpy as np\n",
    "import xarray as xr\n",
    "import pandas as pd\n",
    "import matplotlib.pyplot as plt\n",
    "from wx_extreme.core.detector import ExtremeEventDetector\n",
    "from wx_extreme.core.evaluator import evaluate_extremes"
   ]
  },
  {
   "cell_type": "markdown",
   "metadata": {},
   "source": [
    "## Load ERA5 Data\n",
    "\n",
    "First, let's load ERA5 2m temperature data for the Pacific Northwest heat wave period in June-July 2021."
   ]
  },
  {
   "cell_type": "code",
   "execution_count": null,
   "metadata": {},
   "source": [
    "def get_era5_analysis(\n",
    "    fields: list[str]=['2m_temperature'],\n",
    "    start_date: str=\"2021-06-21\",\n",
    "    end_date: str=\"2021-07-10\"\n",
    ") -> xr.Dataset:\n",
    "    \"\"\"Retrieve a subset of ERA5 data from the ARCO-ERA5 product.\n",
    "\n",
    "    Args:\n",
    "        fields: A list of field names to subset from the analysis.\n",
    "        {start,end}_date: A string in \"%Y-%m-%d\" format bracketing the time range.\n",
    "    Returns:\n",
    "        An xarray.Dataset subset to the requested fields and time range.\n",
    "    \"\"\"\n",
    "    return (\n",
    "        xr.open_dataset(\n",
    "            \"gcs://gcp-public-data-arco-era5/ar/full_37-1h-0p25deg-chunk-1.zarr-v3\",\n",
    "            chunks=None,\n",
    "            storage_options=dict(token='anon'),\n",
    "            engine='zarr'\n",
    "        )\n",
    "        [fields]\n",
    "        .sel(\n",
    "            time=slice(start_date, end_date),\n",
    "            # Pacific Northwest region\n",
    "            latitude=slice(42, 52),\n",
    "            longitude=slice(-125, -115)\n",
    "        )\n",
    "    )\n",
    "\n",
    "# Load ERA5 data\n",
    "era5_ds = get_era5_analysis()\n",
    "era5_ds"
   ]
  },
  {
   "cell_type": "markdown",
   "metadata": {},
   "source": [
    "## Configure Event Detection\n",
    "\n",
    "Now let's set up our extreme event detector. We'll define a temperature extreme as:\n",
    "1. Temperature exceeding 35°C (95°F)\n",
    "2. Persisting for at least 6 hours\n",
    "3. Covering a spatial area of at least 100 km"
   ]
  },
  {
   "cell_type": "code",
   "execution_count": null,
   "metadata": {},
   "source": [
    "# Convert temperature from Kelvin to Celsius\n",
    "era5_ds['2m_temperature'] = era5_ds['2m_temperature'] - 273.15\n",
    "\n",
    "# Create detector\n",
    "detector = ExtremeEventDetector(\n",
    "    thresholds={\n",
    "        '2m_temperature': {\n",
    "            'threshold': 35.0,  # 35°C threshold\n",
    "            'window': '6h',     # 6-hour persistence\n",
    "            'spatial_scale': 100.0  # 100 km spatial scale\n",
    "        }\n",
    "    }\n",
    ")"
   ]
  },
  {
   "cell_type": "markdown",
   "metadata": {},
   "source": [
    "## Detect Extreme Events\n",
    "\n",
    "Let's detect the extreme temperature events and evaluate their characteristics."
   ]
  },
  {
   "cell_type": "code",
   "execution_count": null,
   "metadata": {},
   "source": [
    "# Detect events\n",
    "events = detector.detect_events(era5_ds)\n",
    "\n",
    "# Get event metrics\n",
    "metrics = evaluate_extremes(era5_ds['2m_temperature'], detector)\n",
    "\n",
    "print(\"Event Statistics:\")\n",
    "print(f\"Number of events: {metrics['frequency']}\")\n",
    "print(f\"Mean event duration: {metrics['mean_duration']} hours\")\n",
    "print(f\"Maximum event duration: {metrics['max_duration']} hours\")\n",
    "print(f\"Mean temperature during events: {metrics['mean_intensity']:.1f}°C\")\n",
    "print(f\"Maximum temperature during events: {metrics['max_intensity']:.1f}°C\")"
   ]
  },
  {
   "cell_type": "markdown",
   "metadata": {},
   "source": [
    "## Visualize Events\n",
    "\n",
    "Let's create a map showing the maximum temperature during the heat wave and areas identified as extreme events."
   ]
  },
  {
   "cell_type": "code",
   "execution_count": null,
   "metadata": {},
   "source": [
    "plt.figure(figsize=(12, 8))\n",
    "\n",
    "# Plot maximum temperature\n",
    "max_temp = era5_ds['2m_temperature'].max(dim='time')\n",
    "max_temp.plot(\n",
    "    cmap='RdYlBu_r',\n",
    "    vmin=25,\n",
    "    vmax=45,\n",
    "    cbar_kwargs={'label': '°C'}\n",
    ")\n",
    "\n",
    "# Overlay extreme event mask\n",
    "event_mask = events['2m_temperature_extreme'].any(dim='time')\n",
    "event_mask.plot.contour(\n",
    "    colors='k',\n",
    "    levels=[0.5],\n",
    "    linewidths=2,\n",
    "    label='Extreme Event Regions'\n",
    ")\n",
    "\n",
    "plt.title('Maximum Temperature and Extreme Event Regions\\nduring 2021 Pacific Northwest Heat Wave')\n",
    "plt.xlabel('Longitude')\n",
    "plt.ylabel('Latitude')\n",
    "plt.legend()\n",
    "plt.show()"
   ]
  },
  {
   "cell_type": "markdown",
   "metadata": {},
   "source": [
    "## Time Series Analysis\n",
    "\n",
    "Let's look at the temperature evolution at Portland, Oregon (45.5°N, 122.7°W)."
   ]
  },
  {
   "cell_type": "code",
   "execution_count": null,
   "metadata": {},
   "source": [
    "# Extract time series for Portland\n",
    "portland_temp = era5_ds['2m_temperature'].sel(\n",
    "    latitude=45.5,\n",
    "    longitude=-122.7,\n",
    "    method='nearest'\n",
    ")\n",
    "\n",
    "portland_events = events['2m_temperature_extreme'].sel(\n",
    "    latitude=45.5,\n",
    "    longitude=-122.7,\n",
    "    method='nearest'\n",
    ")\n",
    "\n",
    "plt.figure(figsize=(12, 6))\n",
    "portland_temp.plot(label='Temperature')\n",
    "\n",
    "# Highlight extreme events\n",
    "plt.fill_between(\n",
    "    portland_temp.time,\n",
    "    portland_temp.where(portland_events),\n",
    "    y2=portland_temp.min(),\n",
    "    alpha=0.3,\n",
    "    color='red',\n",
    "    label='Extreme Event'\n",
    ")\n",
    "\n",
    "plt.axhline(y=35, color='k', linestyle='--', label='Threshold (35°C)')\n",
    "plt.title('Temperature Evolution at Portland, Oregon')\n",
    "plt.xlabel('Date')\n",
    "plt.ylabel('Temperature (°C)')\n",
    "plt.legend()\n",
    "plt.grid(True)\n",
    "plt.show()"
   ]
  }
 ],
 "metadata": {
  "kernelspec": {
   "display_name": "Python 3",
   "language": "python",
   "name": "python3"
  },
  "language_info": {
   "codemirror_mode": {
    "name": "ipython",
    "version": 3
   },
   "file_extension": ".py",
   "mimetype": "text/x-python",
   "name": "python",
   "nbconvert_exporter": "python",
   "pygments_lexer": "ipython3",
   "version": "3.12.7"
  }
 },
 "nbformat": 4,
 "nbformat_minor": 4
}
